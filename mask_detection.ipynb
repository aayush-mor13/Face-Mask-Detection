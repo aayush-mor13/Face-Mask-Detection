{
 "cells": [
  {
   "cell_type": "code",
   "execution_count": 1,
   "id": "b190c80e-c784-4519-82b1-01c4a00a1a51",
   "metadata": {},
   "outputs": [
    {
     "name": "stdout",
     "output_type": "stream",
     "text": [
      "Looking in indexes: https://nexus.iisys.de/repository/ki-awz-pypi-group/simple, https://pypi.org/simple\n",
      "Requirement already satisfied: tensorflow in /opt/conda/lib/python3.10/site-packages (2.13.0)\n",
      "Requirement already satisfied: matplotlib in /opt/conda/lib/python3.10/site-packages (3.7.2)\n",
      "Requirement already satisfied: absl-py>=1.0.0 in /opt/conda/lib/python3.10/site-packages (from tensorflow) (1.4.0)\n",
      "Requirement already satisfied: astunparse>=1.6.0 in /opt/conda/lib/python3.10/site-packages (from tensorflow) (1.6.3)\n",
      "Requirement already satisfied: flatbuffers>=23.1.21 in /opt/conda/lib/python3.10/site-packages (from tensorflow) (23.5.26)\n",
      "Requirement already satisfied: gast<=0.4.0,>=0.2.1 in /opt/conda/lib/python3.10/site-packages (from tensorflow) (0.4.0)\n",
      "Requirement already satisfied: google-pasta>=0.1.1 in /opt/conda/lib/python3.10/site-packages (from tensorflow) (0.2.0)\n",
      "Requirement already satisfied: grpcio<2.0,>=1.24.3 in /opt/conda/lib/python3.10/site-packages (from tensorflow) (1.56.2)\n",
      "Requirement already satisfied: h5py>=2.9.0 in /opt/conda/lib/python3.10/site-packages (from tensorflow) (3.9.0)\n",
      "Requirement already satisfied: keras<2.14,>=2.13.1 in /opt/conda/lib/python3.10/site-packages (from tensorflow) (2.13.1)\n",
      "Requirement already satisfied: libclang>=13.0.0 in /opt/conda/lib/python3.10/site-packages (from tensorflow) (16.0.6)\n",
      "Requirement already satisfied: numpy<=1.24.3,>=1.22 in /opt/conda/lib/python3.10/site-packages (from tensorflow) (1.24.3)\n",
      "Requirement already satisfied: opt-einsum>=2.3.2 in /opt/conda/lib/python3.10/site-packages (from tensorflow) (3.3.0)\n",
      "Requirement already satisfied: packaging in /opt/conda/lib/python3.10/site-packages (from tensorflow) (23.1)\n",
      "Requirement already satisfied: protobuf!=4.21.0,!=4.21.1,!=4.21.2,!=4.21.3,!=4.21.4,!=4.21.5,<5.0.0dev,>=3.20.3 in /opt/conda/lib/python3.10/site-packages (from tensorflow) (4.23.3)\n",
      "Requirement already satisfied: setuptools in /opt/conda/lib/python3.10/site-packages (from tensorflow) (68.1.2)\n",
      "Requirement already satisfied: six>=1.12.0 in /opt/conda/lib/python3.10/site-packages (from tensorflow) (1.16.0)\n",
      "Requirement already satisfied: tensorboard<2.14,>=2.13 in /opt/conda/lib/python3.10/site-packages (from tensorflow) (2.13.0)\n",
      "Requirement already satisfied: tensorflow-estimator<2.14,>=2.13.0 in /opt/conda/lib/python3.10/site-packages (from tensorflow) (2.13.0)\n",
      "Requirement already satisfied: termcolor>=1.1.0 in /opt/conda/lib/python3.10/site-packages (from tensorflow) (2.3.0)\n",
      "Requirement already satisfied: typing-extensions<4.6.0,>=3.6.6 in /opt/conda/lib/python3.10/site-packages (from tensorflow) (4.5.0)\n",
      "Requirement already satisfied: wrapt>=1.11.0 in /opt/conda/lib/python3.10/site-packages (from tensorflow) (1.15.0)\n",
      "Requirement already satisfied: tensorflow-io-gcs-filesystem>=0.23.1 in /opt/conda/lib/python3.10/site-packages (from tensorflow) (0.34.0)\n",
      "Requirement already satisfied: contourpy>=1.0.1 in /opt/conda/lib/python3.10/site-packages (from matplotlib) (1.1.0)\n",
      "Requirement already satisfied: cycler>=0.10 in /opt/conda/lib/python3.10/site-packages (from matplotlib) (0.11.0)\n",
      "Requirement already satisfied: fonttools>=4.22.0 in /opt/conda/lib/python3.10/site-packages (from matplotlib) (4.42.1)\n",
      "Requirement already satisfied: kiwisolver>=1.0.1 in /opt/conda/lib/python3.10/site-packages (from matplotlib) (1.4.5)\n",
      "Requirement already satisfied: pillow>=6.2.0 in /opt/conda/lib/python3.10/site-packages (from matplotlib) (10.0.0)\n",
      "Requirement already satisfied: pyparsing<3.1,>=2.3.1 in /opt/conda/lib/python3.10/site-packages (from matplotlib) (3.0.9)\n",
      "Requirement already satisfied: python-dateutil>=2.7 in /opt/conda/lib/python3.10/site-packages (from matplotlib) (2.8.2)\n",
      "Requirement already satisfied: wheel<1.0,>=0.23.0 in /opt/conda/lib/python3.10/site-packages (from astunparse>=1.6.0->tensorflow) (0.41.2)\n",
      "Requirement already satisfied: google-auth<3,>=1.6.3 in /opt/conda/lib/python3.10/site-packages (from tensorboard<2.14,>=2.13->tensorflow) (2.17.3)\n",
      "Requirement already satisfied: google-auth-oauthlib<1.1,>=0.5 in /opt/conda/lib/python3.10/site-packages (from tensorboard<2.14,>=2.13->tensorflow) (1.0.0)\n",
      "Requirement already satisfied: markdown>=2.6.8 in /opt/conda/lib/python3.10/site-packages (from tensorboard<2.14,>=2.13->tensorflow) (3.4.4)\n",
      "Requirement already satisfied: requests<3,>=2.21.0 in /opt/conda/lib/python3.10/site-packages (from tensorboard<2.14,>=2.13->tensorflow) (2.31.0)\n",
      "Requirement already satisfied: tensorboard-data-server<0.8.0,>=0.7.0 in /opt/conda/lib/python3.10/site-packages (from tensorboard<2.14,>=2.13->tensorflow) (0.7.0)\n",
      "Requirement already satisfied: werkzeug>=1.0.1 in /opt/conda/lib/python3.10/site-packages (from tensorboard<2.14,>=2.13->tensorflow) (2.3.7)\n",
      "Requirement already satisfied: cachetools<6.0,>=2.0.0 in /opt/conda/lib/python3.10/site-packages (from google-auth<3,>=1.6.3->tensorboard<2.14,>=2.13->tensorflow) (5.3.1)\n",
      "Requirement already satisfied: pyasn1-modules>=0.2.1 in /opt/conda/lib/python3.10/site-packages (from google-auth<3,>=1.6.3->tensorboard<2.14,>=2.13->tensorflow) (0.2.7)\n",
      "Requirement already satisfied: rsa<5,>=3.1.4 in /opt/conda/lib/python3.10/site-packages (from google-auth<3,>=1.6.3->tensorboard<2.14,>=2.13->tensorflow) (4.9)\n",
      "Requirement already satisfied: requests-oauthlib>=0.7.0 in /opt/conda/lib/python3.10/site-packages (from google-auth-oauthlib<1.1,>=0.5->tensorboard<2.14,>=2.13->tensorflow) (1.3.1)\n",
      "Requirement already satisfied: charset-normalizer<4,>=2 in /opt/conda/lib/python3.10/site-packages (from requests<3,>=2.21.0->tensorboard<2.14,>=2.13->tensorflow) (3.2.0)\n",
      "Requirement already satisfied: idna<4,>=2.5 in /opt/conda/lib/python3.10/site-packages (from requests<3,>=2.21.0->tensorboard<2.14,>=2.13->tensorflow) (3.4)\n",
      "Requirement already satisfied: urllib3<3,>=1.21.1 in /opt/conda/lib/python3.10/site-packages (from requests<3,>=2.21.0->tensorboard<2.14,>=2.13->tensorflow) (2.0.4)\n",
      "Requirement already satisfied: certifi>=2017.4.17 in /opt/conda/lib/python3.10/site-packages (from requests<3,>=2.21.0->tensorboard<2.14,>=2.13->tensorflow) (2023.7.22)\n",
      "Requirement already satisfied: MarkupSafe>=2.1.1 in /opt/conda/lib/python3.10/site-packages (from werkzeug>=1.0.1->tensorboard<2.14,>=2.13->tensorflow) (2.1.3)\n",
      "Requirement already satisfied: pyasn1<0.5.0,>=0.4.6 in /opt/conda/lib/python3.10/site-packages (from pyasn1-modules>=0.2.1->google-auth<3,>=1.6.3->tensorboard<2.14,>=2.13->tensorflow) (0.4.8)\n",
      "Requirement already satisfied: oauthlib>=3.0.0 in /opt/conda/lib/python3.10/site-packages (from requests-oauthlib>=0.7.0->google-auth-oauthlib<1.1,>=0.5->tensorboard<2.14,>=2.13->tensorflow) (3.2.2)\n",
      "Note: you may need to restart the kernel to use updated packages.\n"
     ]
    }
   ],
   "source": [
    "pip install tensorflow matplotlib"
   ]
  },
  {
   "cell_type": "code",
   "execution_count": 2,
   "id": "23169400-922c-4b3b-83da-a2c6f3118408",
   "metadata": {},
   "outputs": [
    {
     "name": "stderr",
     "output_type": "stream",
     "text": [
      "2025-03-11 13:51:12.867519: I tensorflow/core/util/port.cc:110] oneDNN custom operations are on. You may see slightly different numerical results due to floating-point round-off errors from different computation orders. To turn them off, set the environment variable `TF_ENABLE_ONEDNN_OPTS=0`.\n",
      "2025-03-11 13:51:13.039010: I tensorflow/core/platform/cpu_feature_guard.cc:182] This TensorFlow binary is optimized to use available CPU instructions in performance-critical operations.\n",
      "To enable the following instructions: AVX2 AVX512F AVX512_VNNI AVX512_BF16 FMA, in other operations, rebuild TensorFlow with the appropriate compiler flags.\n"
     ]
    }
   ],
   "source": [
    "import tensorflow as tf\n",
    "import numpy as np\n",
    "import matplotlib.pyplot as plt\n",
    "from tensorflow.keras.preprocessing.image import ImageDataGenerator"
   ]
  },
  {
   "cell_type": "code",
   "execution_count": 13,
   "id": "0a89d5ea-f66d-46f2-9693-a896cf2453b4",
   "metadata": {},
   "outputs": [
    {
     "name": "stdout",
     "output_type": "stream",
     "text": [
      "Found 192 images belonging to 2 classes.\n",
      "Found 48 images belonging to 2 classes.\n"
     ]
    }
   ],
   "source": [
    "# Defining the dataset path\n",
    "data_dir = \"ML Dataset\"\n",
    "\n",
    "#Define image size and batch size\n",
    "IMG_size = 128\n",
    "BATCH_size = 32\n",
    "\n",
    "#Create ImageDataGenerator for Training and Validation\n",
    "#Data Augmentation\n",
    "train_datagen = ImageDataGenerator(\n",
    "    rescale = 1./255,           # Normalizing pixel values\n",
    "    rotation_range = 40,        # Rotating images\n",
    "    width_shift_range = 0.3,    # Shifting image width\n",
    "    height_shift_range = 0.3,   # Shifting image height\n",
    "    shear_range = 0.3,          # Shear transformation\n",
    "    zoom_range = 0.3,           # Zoom in and out\n",
    "    horizontal_flip = True,     # Fliping images horizontally \n",
    "    brightness_range=[0.7, 1.3],\n",
    "    fill_mode='nearest',\n",
    "    validation_split = 0.2      # Splitting 20% data into validation\n",
    ")\n",
    "\n",
    "# Loading training data\n",
    "train_generator = train_datagen.flow_from_directory(\n",
    "    data_dir,\n",
    "    target_size = (IMG_size, IMG_size),\n",
    "    batch_size = BATCH_size,\n",
    "    class_mode = \"binary\",        # using binary class mode\n",
    "    subset = \"training\"\n",
    ")\n",
    "\n",
    "# Loading validation data\n",
    "val_generator = train_datagen.flow_from_directory(\n",
    "    data_dir,\n",
    "    target_size = (IMG_size, IMG_size),\n",
    "    batch_size = BATCH_size,\n",
    "    class_mode = \"binary\",\n",
    "    subset = \"validation\"\n",
    ")"
   ]
  },
  {
   "cell_type": "code",
   "execution_count": 14,
   "id": "b2ddfdd3-c0eb-468a-85b9-e97a47c407e7",
   "metadata": {},
   "outputs": [
    {
     "name": "stdout",
     "output_type": "stream",
     "text": [
      "Class Labels : {'Mask': 0, 'No Mask': 1}\n",
      "Total Training Samples : 192\n",
      "Total Validation Samples : 48\n"
     ]
    }
   ],
   "source": [
    "# Checking Dataset details\n",
    "\n",
    "print(\"Class Labels :\", train_generator.class_indices)\n",
    "print(f\"Total Training Samples : {train_generator.samples}\")\n",
    "print(f\"Total Validation Samples : {val_generator.samples}\")"
   ]
  },
  {
   "cell_type": "code",
   "execution_count": 15,
   "id": "00c76298-8076-499d-b741-a3889291b4d0",
   "metadata": {},
   "outputs": [
    {
     "name": "stdout",
     "output_type": "stream",
     "text": [
      "Model: \"sequential_1\"\n",
      "_________________________________________________________________\n",
      " Layer (type)                Output Shape              Param #   \n",
      "=================================================================\n",
      " conv2d_3 (Conv2D)           (None, 126, 126, 32)      896       \n",
      "                                                                 \n",
      " batch_normalization_3 (Bat  (None, 126, 126, 32)      128       \n",
      " chNormalization)                                                \n",
      "                                                                 \n",
      " max_pooling2d_3 (MaxPoolin  (None, 63, 63, 32)        0         \n",
      " g2D)                                                            \n",
      "                                                                 \n",
      " conv2d_4 (Conv2D)           (None, 61, 61, 64)        18496     \n",
      "                                                                 \n",
      " batch_normalization_4 (Bat  (None, 61, 61, 64)        256       \n",
      " chNormalization)                                                \n",
      "                                                                 \n",
      " max_pooling2d_4 (MaxPoolin  (None, 30, 30, 64)        0         \n",
      " g2D)                                                            \n",
      "                                                                 \n",
      " conv2d_5 (Conv2D)           (None, 28, 28, 128)       73856     \n",
      "                                                                 \n",
      " batch_normalization_5 (Bat  (None, 28, 28, 128)       512       \n",
      " chNormalization)                                                \n",
      "                                                                 \n",
      " max_pooling2d_5 (MaxPoolin  (None, 14, 14, 128)       0         \n",
      " g2D)                                                            \n",
      "                                                                 \n",
      " flatten_1 (Flatten)         (None, 25088)             0         \n",
      "                                                                 \n",
      " dense_2 (Dense)             (None, 512)               12845568  \n",
      "                                                                 \n",
      " dropout_1 (Dropout)         (None, 512)               0         \n",
      "                                                                 \n",
      " dense_3 (Dense)             (None, 256)               131328    \n",
      "                                                                 \n",
      " dropout_2 (Dropout)         (None, 256)               0         \n",
      "                                                                 \n",
      " dense_4 (Dense)             (None, 1)                 257       \n",
      "                                                                 \n",
      "=================================================================\n",
      "Total params: 13071297 (49.86 MB)\n",
      "Trainable params: 13070849 (49.86 MB)\n",
      "Non-trainable params: 448 (1.75 KB)\n",
      "_________________________________________________________________\n"
     ]
    }
   ],
   "source": [
    "from tensorflow.keras.models import Sequential\n",
    "from tensorflow.keras.layers import Conv2D, MaxPooling2D, Flatten, Dense, Dropout, BatchNormalization\n",
    "from tensorflow.keras.optimizers import SGD\n",
    "from tensorflow.keras.regularizers import l2\n",
    "\n",
    "# Initializing the CNN Model\n",
    "model =Sequential()\n",
    "\n",
    "# Adding 1st Conolutional Layer\n",
    "model.add(Conv2D(32,(3,3), activation = 'relu', input_shape=(IMG_size, IMG_size,3)))\n",
    "model.add(BatchNormalization())\n",
    "model.add(MaxPooling2D(pool_size=(2,2)))\n",
    "\n",
    "# Adding 2nd Convolutional Layer\n",
    "model.add(Conv2D(64,(3,3), activation = 'relu', kernel_regularizer=tf.keras.regularizers.l2(0.01)))\n",
    "model.add(BatchNormalization())\n",
    "model.add(MaxPooling2D(pool_size=(2,2)))\n",
    "\n",
    "# Adding 3rd Convolutional Layer\n",
    "model.add(Conv2D(128,(3,3), activation = 'relu'))\n",
    "model.add(BatchNormalization())\n",
    "model.add(MaxPooling2D(pool_size=(2,2)))\n",
    "\n",
    "# Adding the Flatten Layer\n",
    "model.add(Flatten())\n",
    "\n",
    "# Fully Connected Layers\n",
    "model.add(Dense(512, activation = 'relu', kernel_regularizer=l2(0.01)))\n",
    "\n",
    "# Adding Dropout Layer\n",
    "model.add(Dropout(0.4))\n",
    "\n",
    "model.add(Dense(256, activation='relu'))\n",
    "model.add(Dropout(0.3))\n",
    "\n",
    "#Output Layer\n",
    "model.add(Dense(1, activation = 'sigmoid'))\n",
    "\n",
    "# Compiling the Model\n",
    "optimizer = SGD(learning_rate=0.01, momentum=0.9)\n",
    "model.compile(optimizer = optimizer, loss = 'binary_crossentropy', metrics=['accuracy'])\n",
    "\n",
    "# Summary of the Mode\n",
    "model.summary()"
   ]
  },
  {
   "cell_type": "code",
   "execution_count": 16,
   "id": "ffea4367-f50f-4495-b610-809611f9ad7a",
   "metadata": {},
   "outputs": [
    {
     "name": "stdout",
     "output_type": "stream",
     "text": [
      "Epoch 1/30\n",
      "6/6 [==============================] - 19s 3s/step - loss: 12.1051 - accuracy: 0.5052 - val_loss: 11.3305 - val_accuracy: 0.5000 - lr: 0.0100\n",
      "Epoch 2/30\n",
      "6/6 [==============================] - 16s 3s/step - loss: 11.7682 - accuracy: 0.5521 - val_loss: 11.0786 - val_accuracy: 0.7500 - lr: 0.0100\n",
      "Epoch 3/30\n",
      "6/6 [==============================] - 16s 3s/step - loss: 11.7084 - accuracy: 0.6094 - val_loss: 11.6000 - val_accuracy: 0.4375 - lr: 0.0100\n",
      "Epoch 4/30\n",
      "6/6 [==============================] - 15s 3s/step - loss: 11.7039 - accuracy: 0.5885 - val_loss: 11.3025 - val_accuracy: 0.5625 - lr: 0.0100\n",
      "Epoch 5/30\n",
      "6/6 [==============================] - 16s 3s/step - loss: 11.8581 - accuracy: 0.6146 - val_loss: 10.9211 - val_accuracy: 0.4062 - lr: 0.0100\n",
      "Epoch 6/30\n",
      "6/6 [==============================] - 17s 3s/step - loss: 11.2285 - accuracy: 0.6302 - val_loss: 10.8257 - val_accuracy: 0.5938 - lr: 0.0100\n",
      "Epoch 7/30\n",
      "6/6 [==============================] - 16s 3s/step - loss: 10.8104 - accuracy: 0.6406 - val_loss: 10.4217 - val_accuracy: 0.6562 - lr: 0.0100\n",
      "Epoch 8/30\n",
      "6/6 [==============================] - 12s 2s/step - loss: 10.4608 - accuracy: 0.6615 - val_loss: 10.2748 - val_accuracy: 0.5625 - lr: 0.0100\n",
      "Epoch 9/30\n",
      "6/6 [==============================] - 15s 3s/step - loss: 10.2880 - accuracy: 0.6823 - val_loss: 10.0685 - val_accuracy: 0.5312 - lr: 0.0100\n",
      "Epoch 10/30\n",
      "6/6 [==============================] - 13s 2s/step - loss: 10.0179 - accuracy: 0.6979 - val_loss: 9.8275 - val_accuracy: 0.6250 - lr: 0.0100\n",
      "Epoch 11/30\n",
      "6/6 [==============================] - 16s 3s/step - loss: 9.6800 - accuracy: 0.7708 - val_loss: 9.6894 - val_accuracy: 0.5625 - lr: 0.0100\n",
      "Epoch 12/30\n",
      "6/6 [==============================] - 17s 3s/step - loss: 9.4577 - accuracy: 0.7656 - val_loss: 9.5110 - val_accuracy: 0.5938 - lr: 0.0100\n",
      "Epoch 13/30\n",
      "6/6 [==============================] - 17s 3s/step - loss: 9.2943 - accuracy: 0.7760 - val_loss: 9.4050 - val_accuracy: 0.6562 - lr: 0.0100\n",
      "Epoch 14/30\n",
      "6/6 [==============================] - 15s 3s/step - loss: 9.1329 - accuracy: 0.7552 - val_loss: 9.2811 - val_accuracy: 0.5625 - lr: 0.0100\n",
      "Epoch 15/30\n",
      "6/6 [==============================] - 16s 3s/step - loss: 8.8944 - accuracy: 0.6979 - val_loss: 9.3312 - val_accuracy: 0.4375 - lr: 0.0100\n",
      "Epoch 16/30\n",
      "6/6 [==============================] - 14s 2s/step - loss: 8.6804 - accuracy: 0.7708 - val_loss: 8.8170 - val_accuracy: 0.5312 - lr: 0.0100\n",
      "Epoch 17/30\n",
      "6/6 [==============================] - 17s 3s/step - loss: 8.3880 - accuracy: 0.8177 - val_loss: 9.1029 - val_accuracy: 0.4688 - lr: 0.0100\n",
      "Epoch 18/30\n",
      "6/6 [==============================] - 15s 3s/step - loss: 8.2030 - accuracy: 0.7969 - val_loss: 8.8314 - val_accuracy: 0.5938 - lr: 0.0100\n",
      "Epoch 19/30\n",
      "6/6 [==============================] - 17s 3s/step - loss: 8.0127 - accuracy: 0.8229 - val_loss: 9.0401 - val_accuracy: 0.5000 - lr: 0.0100\n",
      "Epoch 20/30\n",
      "6/6 [==============================] - 16s 3s/step - loss: 7.7933 - accuracy: 0.8646 - val_loss: 8.8490 - val_accuracy: 0.4688 - lr: 0.0020\n",
      "Epoch 21/30\n",
      "6/6 [==============================] - 13s 2s/step - loss: 7.7342 - accuracy: 0.7865 - val_loss: 8.9051 - val_accuracy: 0.4688 - lr: 0.0020\n"
     ]
    }
   ],
   "source": [
    "# Training the Model\n",
    "from tensorflow.keras.callbacks import EarlyStopping, ReduceLROnPlateau\n",
    "\n",
    "# Early stopping to prevent overfitting\n",
    "early_stopping = EarlyStopping(monitor='val_loss', patience=5, restore_best_weights=True)\n",
    "\n",
    "# Reduce learning rate when loss stops improving\n",
    "reduce_lr = ReduceLROnPlateau(monitor='val_loss', factor=0.2, patience=3, min_lr=1e-6)\n",
    "\n",
    "history = model.fit(\n",
    "    train_generator,                                         # Training data\n",
    "    steps_per_epoch = train_generator.samples // BATCH_size, # No of training batches\n",
    "    epochs = 30,\n",
    "    validation_data = val_generator,                         # Validation data\n",
    "    validation_steps = val_generator.samples // BATCH_size,   # No of validation batches\n",
    "    callbacks=[early_stopping, reduce_lr]\n",
    ")"
   ]
  },
  {
   "cell_type": "code",
   "execution_count": 17,
   "id": "d398524b-6972-475a-8c16-b59f7b569537",
   "metadata": {},
   "outputs": [
    {
     "name": "stdout",
     "output_type": "stream",
     "text": [
      "6/6 [==============================] - 12s 2s/step - loss: 8.9369 - accuracy: 0.5573\n",
      "Train Loss : 8.936928749084473, Train Accuracy : 0.5572916865348816\n",
      "2/2 [==============================] - 4s 1s/step - loss: 8.9412 - accuracy: 0.5417\n",
      "Validation Loss : 8.941235542297363, Validation Accuracy : 0.5416666865348816\n"
     ]
    }
   ],
   "source": [
    "# Evaluating the model on the validation set\n",
    "\n",
    "train_loss, train_acc = model.evaluate(train_generator)\n",
    "print(f\"Train Loss : {train_loss}, Train Accuracy : {train_acc}\")\n",
    "\n",
    "val_loss, val_acc = model.evaluate(val_generator)\n",
    "print(f\"Validation Loss : {val_loss}, Validation Accuracy : {val_acc}\")"
   ]
  },
  {
   "cell_type": "code",
   "execution_count": 18,
   "id": "9ecfd8be-11bb-4435-9306-b2a9d4d97d5a",
   "metadata": {},
   "outputs": [
    {
     "name": "stderr",
     "output_type": "stream",
     "text": [
      "/opt/conda/lib/python3.10/site-packages/keras/src/engine/training.py:3000: UserWarning: You are saving your model as an HDF5 file via `model.save()`. This file format is considered legacy. We recommend using instead the native Keras format, e.g. `model.save('my_model.keras')`.\n",
      "  saving_api.save_model(\n"
     ]
    }
   ],
   "source": [
    "# Saving the Model\n",
    "model.save(\"mask_detection_model.h5\")"
   ]
  },
  {
   "cell_type": "code",
   "execution_count": 19,
   "id": "905400b4-a00f-4f97-a8cc-da120bd1a8c7",
   "metadata": {},
   "outputs": [],
   "source": [
    "from tensorflow.keras.models import load_model\n",
    "\n",
    "# Loading the saved model\n",
    "model = load_model(\"mask_detection_model.h5\")"
   ]
  },
  {
   "cell_type": "code",
   "execution_count": 20,
   "id": "1e26805e-7965-4f29-9e87-29f225b51dc0",
   "metadata": {},
   "outputs": [],
   "source": [
    "# Testing with an Image\n",
    "\n",
    "import numpy as np\n",
    "from tensorflow.keras.preprocessing import image\n",
    "\n",
    "# Loading the test image\n",
    "img_path = \"Image3.jpg\"\n",
    "img = image.load_img(img_path, target_size = (128,128))\n",
    "\n",
    "# Converting the image to an array\n",
    "img_array = image.img_to_array(img)\n",
    "\n",
    "# Adding a batch dimension\n",
    "img_array = np.expand_dims(img_array, axis=0)\n",
    "\n",
    "#Normalizing the pixel values of the test image\n",
    "img_array = img_array/255.0"
   ]
  },
  {
   "cell_type": "code",
   "execution_count": 21,
   "id": "d7ed2888-3128-442d-9ec8-90e091f7aaad",
   "metadata": {},
   "outputs": [
    {
     "name": "stdout",
     "output_type": "stream",
     "text": [
      "1/1 [==============================] - 0s 74ms/step\n",
      "[[0.5276127]]\n",
      "No Mask Detected\n"
     ]
    }
   ],
   "source": [
    "# Making the Prediction\n",
    "\n",
    "prediction = model.predict(img_array)\n",
    "\n",
    "print(prediction)\n",
    "# Output the result\n",
    "if prediction[0][0] > 0.5:\n",
    "    print(\"No Mask Detected\")\n",
    "else:\n",
    "    print(\"Mask Detected\")"
   ]
  }
 ],
 "metadata": {
  "kernelspec": {
   "display_name": "Python 3 (ipykernel)",
   "language": "python",
   "name": "python3"
  },
  "language_info": {
   "codemirror_mode": {
    "name": "ipython",
    "version": 3
   },
   "file_extension": ".py",
   "mimetype": "text/x-python",
   "name": "python",
   "nbconvert_exporter": "python",
   "pygments_lexer": "ipython3",
   "version": "3.10.12"
  }
 },
 "nbformat": 4,
 "nbformat_minor": 5
}
